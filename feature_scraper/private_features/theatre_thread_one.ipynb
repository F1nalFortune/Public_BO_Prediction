{
 "cells": [
  {
   "cell_type": "code",
   "execution_count": 1,
   "metadata": {},
   "outputs": [],
   "source": [
    "from requests import get\n",
    "from bs4 import BeautifulSoup\n",
    "import re\n",
    "import pandas as pd\n",
    "from time import sleep\n",
    "from random import randint\n",
    "from time import time\n",
    "from IPython.core.display import clear_output\n",
    "from warnings import warn\n",
    "import pandas as pd\n",
    "import numpy as np\n",
    "import math\n",
    "import os\n",
    "import unicodedata\n",
    "import string\n",
    "import time\n",
    "from functools import wraps\n",
    "from colorama import Fore\n",
    "from selenium import webdriver\n",
    "from selenium.webdriver.common.keys import Keys\n",
    "from selenium.webdriver.common.by import By\n",
    "from selenium.webdriver.support.ui import WebDriverWait\n",
    "from selenium.webdriver.support import expected_conditions as EC\n",
    "from selenium.common.exceptions import TimeoutException\n",
    "from selenium.common.exceptions import ElementNotVisibleException\n",
    "from requests import ReadTimeout, ConnectTimeout, HTTPError, Timeout, ConnectionError\n",
    "import datetime\n",
    "from dateutil.parser import parse"
   ]
  },
  {
   "cell_type": "code",
   "execution_count": 2,
   "metadata": {},
   "outputs": [],
   "source": [
    "# WINDOWS\n",
    "chromedriver_path = \"INSERT HERE\"\n",
    "user_data_path = \"INSERT HERE\"\n",
    "\n",
    "# MAC\n",
    "chromedriver_path = \"INSERT HERE\"\n",
    "user_data_path = \"INSERT HERE\"\n",
    "\n",
    "# OPTIONS\n",
    "options = webdriver.ChromeOptions()\n",
    "options.add_argument(\"no-sandbox\")\n",
    "options.add_argument(\"disable-dev-shm-usage\")\n",
    "options.add_argument(\"headless\")\n",
    "options.add_argument(f\"user-data-dir={user_data_path}\")\n",
    "# driver = webdriver.Chrome(f\"{chromedriver_path}\", chrome_options=options)\n",
    "# driver.get('https://pro.imdb.com')\n",
    "\n",
    "\n",
    "# driver.get(\"https://pro.imdb.com/title/tt0076759/boxoffice\")\n",
    "\n",
    "# src = driver.page_source\n",
    "# # driver.quit()\n",
    "# parser = BeautifulSoup(src, 'lxml')\n"
   ]
  },
  {
   "cell_type": "code",
   "execution_count": 3,
   "metadata": {},
   "outputs": [
    {
     "name": "stdout",
     "output_type": "stream",
     "text": [
      "Importing Jupyter notebook from create_dataset.ipynb\n",
      "Reading data....\n",
      "\n",
      "\n",
      "Complete!\n"
     ]
    }
   ],
   "source": [
    "import nbimporter\n",
    "import ast\n",
    "from create_dataset import createDataset\n",
    "\n",
    "df = createDataset(9)\n",
    "one,two,three,four,five,six,seven,eight,nine = df[:1000], df[1000:2000],df[2000:3000],df[3000:4000],df[4000:5000],df[5000:6000],df[6000:7000],df[7000:8000],df[8000:]"
   ]
  },
  {
   "cell_type": "code",
   "execution_count": 4,
   "metadata": {},
   "outputs": [],
   "source": [
    "df['date'] = pd.to_datetime(df['date'])\n",
    "df['Week Day'] = df['date'].apply(lambda x: x.weekday())"
   ]
  },
  {
   "cell_type": "code",
   "execution_count": 5,
   "metadata": {},
   "outputs": [
    {
     "data": {
      "text/html": [
       "<div>\n",
       "<style scoped>\n",
       "    .dataframe tbody tr th:only-of-type {\n",
       "        vertical-align: middle;\n",
       "    }\n",
       "\n",
       "    .dataframe tbody tr th {\n",
       "        vertical-align: top;\n",
       "    }\n",
       "\n",
       "    .dataframe thead th {\n",
       "        text-align: right;\n",
       "    }\n",
       "</style>\n",
       "<table border=\"1\" class=\"dataframe\">\n",
       "  <thead>\n",
       "    <tr style=\"text-align: right;\">\n",
       "      <th></th>\n",
       "      <th>name</th>\n",
       "      <th>Week Day</th>\n",
       "      <th>date</th>\n",
       "    </tr>\n",
       "  </thead>\n",
       "  <tbody>\n",
       "    <tr>\n",
       "      <td>8</td>\n",
       "      <td>The Cherry Orchard</td>\n",
       "      <td>2</td>\n",
       "      <td>2000-01-12</td>\n",
       "    </tr>\n",
       "    <tr>\n",
       "      <td>9</td>\n",
       "      <td>Next Friday</td>\n",
       "      <td>2</td>\n",
       "      <td>2000-01-12</td>\n",
       "    </tr>\n",
       "    <tr>\n",
       "      <td>17</td>\n",
       "      <td>Le pique-nique de Lulu Kreutz</td>\n",
       "      <td>2</td>\n",
       "      <td>2000-01-19</td>\n",
       "    </tr>\n",
       "    <tr>\n",
       "      <td>18</td>\n",
       "      <td>The Suburbans</td>\n",
       "      <td>2</td>\n",
       "      <td>2000-01-19</td>\n",
       "    </tr>\n",
       "    <tr>\n",
       "      <td>29</td>\n",
       "      <td>Punks</td>\n",
       "      <td>1</td>\n",
       "      <td>2000-01-25</td>\n",
       "    </tr>\n",
       "  </tbody>\n",
       "</table>\n",
       "</div>"
      ],
      "text/plain": [
       "                             name  Week Day       date\n",
       "8              The Cherry Orchard         2 2000-01-12\n",
       "9                     Next Friday         2 2000-01-12\n",
       "17  Le pique-nique de Lulu Kreutz         2 2000-01-19\n",
       "18                  The Suburbans         2 2000-01-19\n",
       "29                          Punks         1 2000-01-25"
      ]
     },
     "execution_count": 5,
     "metadata": {},
     "output_type": "execute_result"
    }
   ],
   "source": [
    "df[['Week Day', 'date', 'name']]\n",
    "\n",
    "days={\n",
    "  'monday': 0,\n",
    "  'tuesday': 1,\n",
    "  'wednesday': 2,\n",
    "  'thursday': 3,\n",
    "  'friday': 4,\n",
    "  'saturday': 5,\n",
    "  'sunday': 6,\n",
    "}\n",
    "\n",
    "df.loc[(df['Week Day']<4)][['name', 'Week Day', 'date']].head()"
   ]
  },
  {
   "cell_type": "code",
   "execution_count": 6,
   "metadata": {},
   "outputs": [],
   "source": [
    "def retry(ExceptionToCheck, tries=20, delay=3, backoff=2, logger=None):\n",
    "  \"\"\"\n",
    "    Modified from source: http://wiki.python.org/moin/PythonDecoratorLibrary#Retry\n",
    "\n",
    "    Objective\n",
    "    ----------\n",
    "    Exponential backoff function.\n",
    "\n",
    "    Parameters\n",
    "    ----------\n",
    "    ExceptionToCheck : Exception or tuple\n",
    "      the exception to check. may be a tuple of exceptions to check\n",
    "      Possible values:\n",
    "        ConnectionResetError, (TimeoutError, ConnectionError)\n",
    "    tries : int\n",
    "      number of times to try (not retry) before giving up\n",
    "    delay : int\n",
    "      initial delay between retries in seconds\n",
    "    backoff: int\n",
    "      backoff multiplier\n",
    "      E.g. value of 2 will double the delay each retry\n",
    "    logger : logging.Logger instance\n",
    "      logger to use\n",
    "  \"\"\"\n",
    "  def deco_retry(f):\n",
    "    @wraps(f)\n",
    "    def f_retry(*args, **kwargs):\n",
    "      mtries, mdelay = tries, delay\n",
    "      while mtries > 1:\n",
    "        try:\n",
    "          return f(*args, **kwargs)\n",
    "        except ExceptionToCheck:\n",
    "          msg = \"%s, Retrying in %d seconds...\" % (str(ExceptionToCheck), mdelay)\n",
    "          if logger:\n",
    "            #logger.exception(msg) # would print stack trace\n",
    "            logger.warning(msg)\n",
    "          else:\n",
    "            print(msg)\n",
    "          time.sleep(mdelay)\n",
    "          mtries -= 1\n",
    "          mdelay *= backoff\n",
    "        return f(*args, **kwargs)\n",
    "      return f_retry  # true decorator\n",
    "  return deco_retry  "
   ]
  },
  {
   "cell_type": "code",
   "execution_count": 8,
   "metadata": {},
   "outputs": [],
   "source": [
    "def daily_theatres(parser, datezor):\n",
    "  # GRAB DATA FROM OPENING 7 DAYS\n",
    "  from datetime import date\n",
    "  parent = parser.find('td', attrs = {'data-sort-value':str(datezor)}).parent.parent\n",
    "  children = parent.find_all('tr')\n",
    "\n",
    "  movie_datetime = date(int(datezor[0:4]), int(datezor[4:6]), int(datezor[6:8]))\n",
    "\n",
    "  result_object = {}\n",
    "  result_object['dates'] = []\n",
    "  result_object['theatres'] =[]\n",
    "  result_object['gross'] = []\n",
    "  result_object['gross_to_date'] = []\n",
    "\n",
    "  dates = []\n",
    "  theatres = []\n",
    "  gross = []\n",
    "  gross_to_date = []\n",
    "\n",
    "  #define headers\n",
    "  headers = children[0].find_all('th')\n",
    "\n",
    "  for idx, header in enumerate(headers):\n",
    "    if header.text.strip()=='Date':\n",
    "      date_col = idx\n",
    "    elif header.text.strip()=='Single Day Gross':\n",
    "      result_object['value']='day'\n",
    "      gross_col = idx\n",
    "    elif header.text.strip()=='Weekend Gross':\n",
    "      result_object['value']='week'\n",
    "      gross_col = idx\n",
    "    elif header.text.strip()=='Gross':\n",
    "      result_object['value']='week'\n",
    "      gross_col = idx\n",
    "    elif header.text.strip()=='Theaters':\n",
    "      theaters_col = idx\n",
    "    elif header.text.strip()=='Screens':\n",
    "      theaters_col = idx\n",
    "    elif header.text.strip()=='Gross Since Release':\n",
    "      result_object['value']='day'\n",
    "      gtd_col = idx\n",
    "    elif header.text.strip()=='Gross to Date':\n",
    "      result_object['value']='week'\n",
    "      gtd_col = idx\n",
    "\n",
    "\n",
    "  target_children = []\n",
    "  for child in children[1:]:\n",
    "      current_date = child.td['data-sort-value']\n",
    "      current_datetime = date(int(current_date[0:4]), int(current_date[4:6]), int(current_date[6:8]))\n",
    "      difference = (current_datetime-movie_datetime).days\n",
    "      if type(current_date)==str and difference >=0 and difference < 7:\n",
    "        target_children.append(child)\n",
    "\n",
    "  for child in target_children:\n",
    "    try:\n",
    "      current_date = child.td['data-sort-value']\n",
    "      current_datetime = date(int(current_date[0:4]), int(current_date[4:6]), int(current_date[6:8]))\n",
    "      difference = (current_datetime-movie_datetime).days\n",
    "      if type(current_date)==str and difference >=0 and difference < 7:\n",
    "        try:\n",
    "          current_theatres = child.find_all('td')[theaters_col]['data-sort-value']\n",
    "        except:\n",
    "          current_theatres = np.nan\n",
    "        try:\n",
    "          if result_object['value']=='day':\n",
    "            current_gross = child.find_all('td')[gross_col].div.p.text.strip()\n",
    "          else:\n",
    "            current_gross = child.find_all('td')[gross_col].div.text.strip()\n",
    "        except:\n",
    "          current_gross = np.nan\n",
    "        try:\n",
    "          current_gtd = child.find_all('td')[gtd_col].div.text.strip()\n",
    "        except:\n",
    "          current_gtd = np.nan\n",
    "\n",
    "        print(Fore.GREEN + f\"Date: {current_date}\")\n",
    "        print(Fore.GREEN + f\"Theatres: {current_theatres}\")\n",
    "        print(Fore.GREEN + f\"Gross: {current_gross}\")\n",
    "        print(Fore.GREEN + f\"Gross to date: {current_gtd}\")\n",
    "        result_object['dates'].append(current_date)\n",
    "        result_object['theatres'].append(current_theatres)\n",
    "        result_object['gross'].append(current_gross)\n",
    "        result_object['gross_to_date'].append(current_gtd)\n",
    "    except:\n",
    "      continue\n",
    "\n",
    "  print(result_object)\n",
    "  # driver.quit()\n",
    "\n",
    "  return result_object"
   ]
  },
  {
   "cell_type": "code",
   "execution_count": 9,
   "metadata": {},
   "outputs": [],
   "source": [
    "def scrape(df, thread_count, new_df=None):\n",
    "  if type(new_df)!=pd.DataFrame:\n",
    "    movies = pd.DataFrame()\n",
    "  else:\n",
    "    movies = new_df\n",
    "  counter=0\n",
    "  for row in df.itertuples():\n",
    "    print(f\"{counter}/{len(df)}\")\n",
    "\n",
    "    counter +=1\n",
    "    profile = row.profile\n",
    "    name = row.name\n",
    "#     release = row.release\n",
    "    release = row.date\n",
    "    '''\n",
    "        GET OPENING THEATRE COUNT\n",
    "    '''\n",
    "    try:\n",
    "      # START UP WEB DRIVER\n",
    "      driver = webdriver.Chrome(chromedriver_path, chrome_options=options)\n",
    "      @retry((ReadTimeout, ConnectTimeout, HTTPError, Timeout, ConnectionError), tries=20, delay=2, backoff=2)\n",
    "      def get_prop():\n",
    "          driver.get(\"https://pro.imdb.com\" + profile + \"boxoffice\")\n",
    "      get_prop()\n",
    "      src = driver.page_source\n",
    "      parser = BeautifulSoup(src, 'lxml')\n",
    "      # GRAB OPENING DAY THEATRE COUNT\n",
    "      try:\n",
    "        release_date = parser.find_all('div', class_='a-fixed-right-grid-col a-col-right')[1].find('div', class_=\"a-row a-spacing-base\").span.a.text\n",
    "        release_date = release_date.replace(\",\", \"\").split(\"\\n\")\n",
    "        #CREATE MONTHS DICTIONARY\n",
    "        months = dict(Jan=1, Feb=2, Mar=3, Apr=4, May=5, Jun=6, Jul=7, Aug=8, Sep=9, Oct=10, Nov=11, Dec=12)\n",
    "        #CALCULATE YEAR\n",
    "        year = str(release_date[2])\n",
    "        #CALCULATE MONTH\n",
    "        month = str(release_date[0])\n",
    "        month = str(months[month])\n",
    "        if len(month) > 1:\n",
    "          pass\n",
    "        else:\n",
    "          month = '0' + str(month)\n",
    "        #CALCULATE DAY\n",
    "        if int(release_date[1]) < 10:\n",
    "          day = '0' + str(release_date[1])\n",
    "        else:\n",
    "          day = str(release_date[1])\n",
    "        date = year + month + day\n",
    "        \n",
    "        try:\n",
    "          '''\n",
    "            DEFINE TABLE HEADERS\n",
    "          '''\n",
    "          parent = parser.find('td', attrs = {'data-sort-value':str(date)}).parent.parent\n",
    "          children = parent.find_all('tr')\n",
    "\n",
    "\n",
    "          #define headers\n",
    "          headers = children[0].find_all('th')\n",
    "  #         day, week = False, False\n",
    "          for idx, header in enumerate(headers):\n",
    "            if header.text.strip()=='Date':\n",
    "              date_col = idx\n",
    "            elif header.text.strip()=='Single Day Gross':\n",
    "          #     result_object['value']=='day'\n",
    "              gross_col = idx\n",
    "            elif header.text.strip()=='Weekend Gross':\n",
    "          #     result_object['value']=='week'\n",
    "              gross_col = idx\n",
    "            elif header.text.strip()=='Theaters':\n",
    "              theaters_col = idx\n",
    "            elif header.text.strip()=='Gross Since Release':\n",
    "          #     result_object['value']=='day'\n",
    "              gtd_col = idx\n",
    "            elif header.text.strip()=='Gross to Date':\n",
    "          #     result_object['value']=='week'\n",
    "              gtd_col = idx\n",
    "\n",
    "\n",
    "          # GRAB DATA FROM OPENING 7 DAYS\n",
    "          opening_week_data = daily_theatres(parser, date)\n",
    "        except:\n",
    "          opening_week_data = np.nan\n",
    "\n",
    "        try:\n",
    "          opening_day = int(parser.find('td', attrs = {'data-sort-value':str(date)}).parent.find_all('td')[theaters_col]['data-sort-value'])\n",
    "        except:\n",
    "          opening_day = np.nan\n",
    "          \n",
    "\n",
    "        #find weekday of date\n",
    "        weekday =  datetime.datetime.strptime(f\"{year}-{month}-{day}\", '%Y-%m-%d').weekday()\n",
    "        if weekday>3:\n",
    "          try:\n",
    "            opening_weekend = int(parser.find('td', attrs = {'data-sort-value':str(date)}).parent.find_all('td')[theaters_col]['data-sort-value'])\n",
    "          except:\n",
    "            opening_weekend = np.nan\n",
    "        else:\n",
    "          #TRY FRIDAY SATURDAY OR SUNDAY (incase theatres are closed on holiday)\n",
    "          def returnTheatres(year, month, day, day_of_week, weekday):\n",
    "            difference = day_of_week - int(weekday)\n",
    "            opening_date = datetime.datetime.strptime(f\"{year}-{month}-{day}\", '%Y-%m-%d')\n",
    "            result = opening_date + datetime.timedelta(days=difference)\n",
    "            day = str(result.day)\n",
    "            month = str(result.month)\n",
    "            year = str(result.year)\n",
    "            if len(month) > 1:\n",
    "              pass\n",
    "            else:\n",
    "              month = '0' + str(month)\n",
    "            #CALCULATE DAY\n",
    "            if int(day) < 10:\n",
    "              day = '0' + str(day)\n",
    "            else:\n",
    "              day = str(day)\n",
    "            date = f\"{year}{month}{day}\"\n",
    "            opening_weekend = parser.find('td', attrs = {'data-sort-value':str(date)}).parent.find_all('td')[theaters_col]['data-sort-value']\n",
    "            return int(opening_weekend)\n",
    "\n",
    "          try:\n",
    "            opening_weekend = returnTheatres(year, month, day, 4, weekday)\n",
    "          except:\n",
    "            try:\n",
    "              opening_weekend = returnTheatres(year, month, day, 5, weekday)\n",
    "            except:\n",
    "              try:\n",
    "                opening_weekend = returnTheaters(year, month, day, 6, weekday)\n",
    "              except:\n",
    "                opening_weekend = np.nan\n",
    "\n",
    "        if np.isnan(opening_day):\n",
    "          print(Fore.RED + \"Opening Day\")\n",
    "        else:\n",
    "          print(Fore.GREEN + \"Opening Day\")\n",
    "\n",
    "        if np.isnan(opening_weekend):\n",
    "          print(Fore.RED + \"Opening Weekend\")\n",
    "        else:\n",
    "          print(Fore.GREEN + \"Opening Weekend\")\n",
    "\n",
    "      except Exception as e:\n",
    "        print(\"Error: \", e)\n",
    "        opening_day = np.nan\n",
    "        opening_weekend = np.nan\n",
    "        print(Fore.RED + \"Opening Day\")\n",
    "        print(Fore.RED + \"Opening Weekend\")\n",
    "\n",
    "      # GATHER PRE RELEASE SCREENING BOOLEAN\n",
    "      try:\n",
    "        pre_release_theatres = parser.find('table', {\"id\": \"box_office_mojo\"}).find_all('tr')[1].find_all('td')[0]['data-sort-value']\n",
    "        first_date = str(pre_release_theatres)[:4] + \"-\" + str(pre_release_theatres)[4:6] + \"-\" + str(pre_release_theatres)[6:8]\n",
    "        print(first_date)\n",
    "        pre_release_theatres = first_date\n",
    "        print(Fore.GREEN + f\"Pre-release Screening: {pre_release_theatres}\")\n",
    "      except:\n",
    "        pre_release_theatres = np.nan\n",
    "        print(Fore.RED + \"Pre-release Screening\")\n",
    "\n",
    "\n",
    "#       # GATHER MAX THEATRE BOOLEAN\n",
    "#       try:\n",
    "#         theatre_counts = []\n",
    "#         elements = parser.find('table', {\"id\": \"box_office_mojo\"}).find_all('tr')\n",
    "#         for element in elements:\n",
    "#           try:\n",
    "#             theatre_counts.append(int(element.find_all('td')[4].text.strip().replace(\",\", \"\")))\n",
    "#           except:\n",
    "#             continue\n",
    "#         max_theatres = max(theatre_counts)\n",
    "#         print(Fore.GREEN + f\"Max Theatres: {max_theatres}\")\n",
    "#       except:\n",
    "#         max_theatres = np.nan\n",
    "#         print(Fore.RED + \"Max Theatres\")\n",
    "\n",
    "      try:\n",
    "        @retry((ReadTimeout, ConnectTimeout, HTTPError, Timeout, ConnectionError), tries=20, delay=2, backoff=2)\n",
    "        def get_prop():\n",
    "            driver.get(\"https://pro.imdb.com\" + profile + \"cast\")\n",
    "        get_prop()\n",
    "        src = driver.page_source\n",
    "        parser = BeautifulSoup(src, 'lxml')\n",
    "\n",
    "        contacts = parser.find('div', attrs = {'id':'contacts'}).find_all('div', class_='header_section')\n",
    "        for contact in contacts:\n",
    "          result = contact.find_next('div', class_='contacts_header').text.strip()\n",
    "          if result == 'Distributor':\n",
    "            distributor = contact.a.text.strip()\n",
    "        print(Fore.GREEN + f'Distributor: {distributor}')\n",
    "        clear_output(wait = True)\n",
    "      except Exception as e:\n",
    "        distributor = np.nan\n",
    "        print(f\"Error: {e}\")\n",
    "        print(Fore.RED + 'Distributor')\n",
    "        clear_output(wait = True)\n",
    "        \n",
    "        \n",
    "      \n",
    "      driver.quit()\n",
    "      movie = pd.DataFrame({\n",
    "        'name': [name],\n",
    "        'opening_day_theatres': [opening_day],\n",
    "        'opening_week_data': [opening_week_data],\n",
    "        'opening_weekend': [opening_weekend],\n",
    "        'pre_release': [pre_release_theatres],\n",
    "        'release': [release],\n",
    "        'profile': [profile],\n",
    "        'distributor': [distributor],\n",
    "        'error': [np.nan]\n",
    "      })\n",
    "    except Exception as e:\n",
    "      print(f\"Error: {e}\")\n",
    "      movie = pd.DataFrame({\n",
    "        'name': [name],\n",
    "        'opening_day_theatres': [np.nan],\n",
    "        'opening_week_data': [np.nan],\n",
    "        'opening_weekend': [np.nan],\n",
    "        'pre_release': [np.nan],\n",
    "        'release': [release],\n",
    "        'profile': [profile],\n",
    "        'distributor': [np.nan],\n",
    "        'error': [e]\n",
    "      })\n",
    "    movies = movies.append(movie, ignore_index=True)\n",
    "  movies.to_csv(f\"/Volumes/128/data/{thread_count}.csv\", index=False)"
   ]
  },
  {
   "cell_type": "code",
   "execution_count": 10,
   "metadata": {
    "collapsed": true,
    "jupyter": {
     "outputs_hidden": true
    }
   },
   "outputs": [
    {
     "name": "stdout",
     "output_type": "stream",
     "text": [
      "999/1000\n",
      "\u001b[32mDate: 20020823\n",
      "\u001b[32mTheatres: 2154\n",
      "\u001b[32mGross: $2,042,344\n",
      "\u001b[32mGross to date: $2,042,344\n",
      "\u001b[32mDate: 20020824\n",
      "\u001b[32mTheatres: 2154\n",
      "\u001b[32mGross: $2,276,895\n",
      "\u001b[32mGross to date: $4,319,239\n",
      "\u001b[32mDate: 20020825\n",
      "\u001b[32mTheatres: 2154\n",
      "\u001b[32mGross: $1,438,997\n",
      "\u001b[32mGross to date: $5,758,236\n",
      "\u001b[32mDate: 20020826\n",
      "\u001b[32mTheatres: 2154\n",
      "\u001b[32mGross: $495,204\n",
      "\u001b[32mGross to date: $6,253,440\n",
      "\u001b[32mDate: 20020827\n",
      "\u001b[32mTheatres: 2154\n",
      "\u001b[32mGross: $508,362\n",
      "\u001b[32mGross to date: $6,761,802\n",
      "\u001b[32mDate: 20020828\n",
      "\u001b[32mTheatres: 2154\n",
      "\u001b[32mGross: $429,464\n",
      "\u001b[32mGross to date: $7,191,266\n",
      "\u001b[32mDate: 20020829\n",
      "\u001b[32mTheatres: 2154\n",
      "\u001b[32mGross: $372,426\n",
      "\u001b[32mGross to date: $7,563,692\n",
      "{'dates': ['20020823', '20020824', '20020825', '20020826', '20020827', '20020828', '20020829'], 'theatres': ['2154', '2154', '2154', '2154', '2154', '2154', '2154'], 'gross': ['$2,042,344', '$2,276,895', '$1,438,997', '$495,204', '$508,362', '$429,464', '$372,426'], 'gross_to_date': ['$2,042,344', '$4,319,239', '$5,758,236', '$6,253,440', '$6,761,802', '$7,191,266', '$7,563,692'], 'value': 'day'}\n",
      "\u001b[32mOpening Day\n",
      "\u001b[32mOpening Weekend\n",
      "2002-08-23\n",
      "\u001b[32mPre-release Screening: 2002-08-23\n",
      "\u001b[32mDistributor: Paramount Pictures\n"
     ]
    }
   ],
   "source": [
    "scrape(one, 'one')"
   ]
  },
  {
   "cell_type": "code",
   "execution_count": 56,
   "metadata": {},
   "outputs": [
    {
     "data": {
      "text/plain": [
       "True"
      ]
     },
     "execution_count": 56,
     "metadata": {},
     "output_type": "execute_result"
    }
   ],
   "source": [
    "type(two)==pd.DataFrame"
   ]
  },
  {
   "cell_type": "code",
   "execution_count": 10,
   "metadata": {},
   "outputs": [
    {
     "name": "stdout",
     "output_type": "stream",
     "text": [
      "799/800\n",
      "\u001b[32mDate: 20050211\n",
      "\u001b[32mTheatres: 3575\n",
      "\u001b[32mGross: $13,966,468\n",
      "\u001b[32mGross to date: $13,966,468\n",
      "\u001b[32mDate: 20050212\n",
      "\u001b[32mTheatres: 3575\n",
      "\u001b[32mGross: $18,581,456\n",
      "\u001b[32mGross to date: $32,547,924\n",
      "\u001b[32mDate: 20050213\n",
      "\u001b[32mTheatres: 3575\n",
      "\u001b[32mGross: $10,594,290\n",
      "\u001b[32mGross to date: $43,142,214\n",
      "\u001b[32mDate: 20050214\n",
      "\u001b[32mTheatres: 3575\n",
      "\u001b[32mGross: $7,515,442\n",
      "\u001b[32mGross to date: $50,657,656\n",
      "\u001b[32mDate: 20050215\n",
      "\u001b[32mTheatres: 3575\n",
      "\u001b[32mGross: $2,658,085\n",
      "\u001b[32mGross to date: $53,315,741\n",
      "\u001b[32mDate: 20050216\n",
      "\u001b[32mTheatres: 3575\n",
      "\u001b[32mGross: $2,346,532\n",
      "\u001b[32mGross to date: $55,662,273\n",
      "\u001b[32mDate: 20050217\n",
      "\u001b[32mTheatres: 3575\n",
      "\u001b[32mGross: $2,652,946\n",
      "\u001b[32mGross to date: $58,315,219\n",
      "{'dates': ['20050211', '20050212', '20050213', '20050214', '20050215', '20050216', '20050217'], 'theatres': ['3575', '3575', '3575', '3575', '3575', '3575', '3575'], 'gross': ['$13,966,468', '$18,581,456', '$10,594,290', '$7,515,442', '$2,658,085', '$2,346,532', '$2,652,946'], 'gross_to_date': ['$13,966,468', '$32,547,924', '$43,142,214', '$50,657,656', '$53,315,741', '$55,662,273', '$58,315,219'], 'value': 'day'}\n",
      "\u001b[32mOpening Day\n",
      "\u001b[32mOpening Weekend\n",
      "2005-02-11\n",
      "\u001b[32mPre-release Screening: 2005-02-11\n",
      "\u001b[32mDistributor: Columbia Pictures\n"
     ]
    }
   ],
   "source": [
    "scrape(two[200:], 'two', pd.read_csv(\"/Volumes/128/data/two.csv\")[:200])"
   ]
  },
  {
   "cell_type": "code",
   "execution_count": 11,
   "metadata": {},
   "outputs": [
    {
     "name": "stdout",
     "output_type": "stream",
     "text": [
      "999/1000\n",
      "\u001b[31mOpening Day\n",
      "\u001b[31mOpening Weekend\n",
      "2006-09-01\n",
      "\u001b[32mPre-release Screening: 2006-09-01\n",
      "\u001b[32mDistributor: Goodbye Cruel Releasing\n"
     ]
    }
   ],
   "source": [
    "scrape(three, 'three')"
   ]
  },
  {
   "cell_type": "code",
   "execution_count": 12,
   "metadata": {},
   "outputs": [
    {
     "name": "stdout",
     "output_type": "stream",
     "text": [
      "999/1000\n",
      "\u001b[32mDate: 20090814\n",
      "\u001b[32mTheatres: 2988\n",
      "\u001b[32mGross: $7,720,103\n",
      "\u001b[32mGross to date: $7,720,103\n",
      "\u001b[32mDate: 20090815\n",
      "\u001b[32mTheatres: 2988\n",
      "\u001b[32mGross: $6,374,563\n",
      "\u001b[32mGross to date: $14,094,666\n",
      "\u001b[32mDate: 20090816\n",
      "\u001b[32mTheatres: 2988\n",
      "\u001b[32mGross: $4,528,505\n",
      "\u001b[32mGross to date: $18,623,171\n",
      "\u001b[32mDate: 20090817\n",
      "\u001b[32mTheatres: 2988\n",
      "\u001b[32mGross: $2,338,419\n",
      "\u001b[32mGross to date: $20,961,590\n",
      "\u001b[32mDate: 20090818\n",
      "\u001b[32mTheatres: 2988\n",
      "\u001b[32mGross: $2,478,724\n",
      "\u001b[32mGross to date: $23,440,314\n",
      "\u001b[32mDate: 20090819\n",
      "\u001b[32mTheatres: 2988\n",
      "\u001b[32mGross: $2,055,357\n",
      "\u001b[32mGross to date: $25,495,671\n",
      "\u001b[32mDate: 20090820\n",
      "\u001b[32mTheatres: 2988\n",
      "\u001b[32mGross: $1,927,578\n",
      "\u001b[32mGross to date: $27,423,249\n",
      "{'dates': ['20090814', '20090815', '20090816', '20090817', '20090818', '20090819', '20090820'], 'theatres': ['2988', '2988', '2988', '2988', '2988', '2988', '2988'], 'gross': ['$7,720,103', '$6,374,563', '$4,528,505', '$2,338,419', '$2,478,724', '$2,055,357', '$1,927,578'], 'gross_to_date': ['$7,720,103', '$14,094,666', '$18,623,171', '$20,961,590', '$23,440,314', '$25,495,671', '$27,423,249'], 'value': 'day'}\n",
      "\u001b[32mOpening Day\n",
      "\u001b[32mOpening Weekend\n",
      "2009-08-14\n",
      "\u001b[32mPre-release Screening: 2009-08-14\n",
      "\u001b[32mDistributor: New Line Cinema\n"
     ]
    }
   ],
   "source": [
    "scrape(four, 'four')"
   ]
  },
  {
   "cell_type": "code",
   "execution_count": 13,
   "metadata": {},
   "outputs": [
    {
     "name": "stdout",
     "output_type": "stream",
     "text": [
      "999/1000\n",
      "\u001b[31mOpening Day\n",
      "\u001b[31mOpening Weekend\n",
      "\u001b[31mPre-release Screening\n",
      "\u001b[32mDistributor: Cohen Media Group\n"
     ]
    }
   ],
   "source": [
    "scrape(five, 'five')"
   ]
  },
  {
   "cell_type": "code",
   "execution_count": 14,
   "metadata": {},
   "outputs": [
    {
     "name": "stdout",
     "output_type": "stream",
     "text": [
      "999/1000\n",
      "\u001b[32mDate: 20140110\n",
      "\u001b[32mTheatres: 2\n",
      "\u001b[32mGross: $9,280\n",
      "\u001b[32mGross to date: $9,280\n",
      "{'dates': ['20140110'], 'theatres': ['2'], 'gross': ['$9,280'], 'gross_to_date': ['$9,280'], 'value': 'week'}\n",
      "\u001b[32mOpening Day\n",
      "\u001b[32mOpening Weekend\n",
      "2014-01-10\n",
      "\u001b[32mPre-release Screening: 2014-01-10\n",
      "\u001b[32mDistributor: Big World Pictures\n"
     ]
    }
   ],
   "source": [
    "scrape(six, 'six')"
   ]
  },
  {
   "cell_type": "code",
   "execution_count": 15,
   "metadata": {},
   "outputs": [
    {
     "name": "stdout",
     "output_type": "stream",
     "text": [
      "999/1000\n",
      "\u001b[31mOpening Day\n",
      "\u001b[31mOpening Weekend\n",
      "2012-08-31\n",
      "\u001b[32mPre-release Screening: 2012-08-31\n",
      "\u001b[32mDistributor: Millennium Entertainment\n"
     ]
    }
   ],
   "source": [
    "scrape(seven, 'seven')"
   ]
  },
  {
   "cell_type": "code",
   "execution_count": 16,
   "metadata": {},
   "outputs": [
    {
     "name": "stdout",
     "output_type": "stream",
     "text": [
      "999/1000\n",
      "\u001b[32mDate: 20180209\n",
      "\u001b[32mTheatres: 3042\n",
      "\u001b[32mGross: $3,736,369\n",
      "\u001b[32mGross to date: $3,736,369\n",
      "\u001b[32mDate: 20180210\n",
      "\u001b[32mTheatres: 3042\n",
      "\u001b[32mGross: $5,436,962\n",
      "\u001b[32mGross to date: $9,173,331\n",
      "\u001b[32mDate: 20180211\n",
      "\u001b[32mTheatres: 3042\n",
      "\u001b[32mGross: $3,380,955\n",
      "\u001b[32mGross to date: $12,554,286\n",
      "\u001b[32mDate: 20180212\n",
      "\u001b[32mTheatres: 3042\n",
      "\u001b[32mGross: $1,078,247\n",
      "\u001b[32mGross to date: $13,632,533\n",
      "\u001b[32mDate: 20180213\n",
      "\u001b[32mTheatres: 3042\n",
      "\u001b[32mGross: $1,517,713\n",
      "\u001b[32mGross to date: $15,150,246\n",
      "\u001b[32mDate: 20180214\n",
      "\u001b[32mTheatres: 3042\n",
      "\u001b[32mGross: $1,702,360\n",
      "\u001b[32mGross to date: $16,852,606\n",
      "\u001b[32mDate: 20180215\n",
      "\u001b[32mTheatres: 3042\n",
      "\u001b[32mGross: $895,111\n",
      "\u001b[32mGross to date: $17,747,717\n",
      "{'dates': ['20180209', '20180210', '20180211', '20180212', '20180213', '20180214', '20180215'], 'theatres': ['3042', '3042', '3042', '3042', '3042', '3042', '3042'], 'gross': ['$3,736,369', '$5,436,962', '$3,380,955', '$1,078,247', '$1,517,713', '$1,702,360', '$895,111'], 'gross_to_date': ['$3,736,369', '$9,173,331', '$12,554,286', '$13,632,533', '$15,150,246', '$16,852,606', '$17,747,717'], 'value': 'day'}\n",
      "\u001b[32mOpening Day\n",
      "\u001b[32mOpening Weekend\n",
      "2018-02-09\n",
      "\u001b[32mPre-release Screening: 2018-02-09\n",
      "\u001b[32mDistributor: Warner Bros.\n"
     ]
    }
   ],
   "source": [
    "scrape(eight, 'eight')"
   ]
  },
  {
   "cell_type": "code",
   "execution_count": 17,
   "metadata": {},
   "outputs": [
    {
     "name": "stdout",
     "output_type": "stream",
     "text": [
      "769/770\n",
      "\u001b[31mOpening Day\n",
      "\u001b[31mOpening Weekend\n",
      "2019-09-22\n",
      "\u001b[32mPre-release Screening: 2019-09-22\n",
      "Error: 'NoneType' object has no attribute 'find_all'\n",
      "\u001b[31mDistributor\n"
     ]
    }
   ],
   "source": [
    "scrape(nine, 'nine')"
   ]
  },
  {
   "cell_type": "code",
   "execution_count": 23,
   "metadata": {},
   "outputs": [
    {
     "name": "stdout",
     "output_type": "stream",
     "text": [
      "13947\n"
     ]
    }
   ],
   "source": [
    "# threads = pd.DataFrame()\n",
    "# thread_one = pd.read_csv(\"../../data/thread_one.csv\")\n",
    "# thread_two = pd.read_csv(\"../../data/thread_two.csv\")\n",
    "# threads = threads.append(thread_one, ignore_index=True)\n",
    "# threads = threads.append(thread_two, ignore_index=True)\n",
    "\n",
    "# threads.dropna(subset=['box_office'], inplace=True)\n",
    "# threads = threads.reset_index(drop=True)\n",
    "# threads = threads.drop_duplicates()\n",
    "# print(len(threads))\n",
    "# threads = threads[7000:]\n",
    "\n",
    "\n",
    "# one = threads[:1000]\n",
    "# two = threads[1000:2000]\n",
    "# three = threads[2000:3000]\n",
    "# four = threads[3000:4000]\n",
    "# five = threads[4000:5000]\n",
    "# six = threads[5000:6000]\n",
    "# seven = threads[6000:len(threads)]"
   ]
  },
  {
   "cell_type": "code",
   "execution_count": 24,
   "metadata": {},
   "outputs": [
    {
     "name": "stdout",
     "output_type": "stream",
     "text": [
      "Error:  list index out of range\n",
      "\u001b[31mOpening Day\n",
      "\u001b[31mOpening Weekend\n",
      "1990-11-02\n",
      "\u001b[32mPre-release Screening: 1990-11-02\n",
      "\u001b[32mMax Theatres: 2\n",
      "\u001b[32mDistributor: The Samuel Goldwyn Company\n"
     ]
    }
   ],
   "source": [
    "scrape(one, 'eight')"
   ]
  },
  {
   "cell_type": "code",
   "execution_count": 25,
   "metadata": {},
   "outputs": [
    {
     "name": "stdout",
     "output_type": "stream",
     "text": [
      "\u001b[32mOpening Day\n",
      "\u001b[32mOpening Weekend\n",
      "2005-04-22\n",
      "\u001b[32mPre-release Screening: 2005-04-22\n",
      "\u001b[32mMax Theatres: 64\n",
      "\u001b[32mDistributor: IFC Films\n"
     ]
    }
   ],
   "source": [
    "scrape(two, 'nine')"
   ]
  },
  {
   "cell_type": "code",
   "execution_count": 26,
   "metadata": {},
   "outputs": [
    {
     "name": "stdout",
     "output_type": "stream",
     "text": [
      "\u001b[31mOpening Day\n",
      "\u001b[31mOpening Weekend\n",
      "\u001b[31mPre-release Screening\n",
      "\u001b[31mMax Theatres\n",
      "\u001b[32mDistributor: Columbia Pictures\n"
     ]
    }
   ],
   "source": [
    "scrape(three, 'ten')"
   ]
  },
  {
   "cell_type": "code",
   "execution_count": 27,
   "metadata": {},
   "outputs": [
    {
     "name": "stdout",
     "output_type": "stream",
     "text": [
      "Error:  list index out of range\n",
      "\u001b[31mOpening Day\n",
      "\u001b[31mOpening Weekend\n",
      "2008-12-26\n",
      "\u001b[32mPre-release Screening: 2008-12-26\n",
      "\u001b[32mMax Theatres: 3\n",
      "\u001b[32mDistributor: IFC Films\n"
     ]
    }
   ],
   "source": [
    "scrape(four, 'eleven')"
   ]
  },
  {
   "cell_type": "code",
   "execution_count": 28,
   "metadata": {},
   "outputs": [
    {
     "name": "stdout",
     "output_type": "stream",
     "text": [
      "\u001b[31mOpening Day\n",
      "\u001b[31mOpening Weekend\n",
      "2015-02-20\n",
      "\u001b[32mPre-release Screening: 2015-02-20\n",
      "\u001b[32mMax Theatres: 9\n",
      "\u001b[32mDistributor: BBC Worldwide Americas\n"
     ]
    }
   ],
   "source": [
    "scrape(five, 'twelve')"
   ]
  },
  {
   "cell_type": "code",
   "execution_count": 29,
   "metadata": {},
   "outputs": [
    {
     "name": "stdout",
     "output_type": "stream",
     "text": [
      "\u001b[32mOpening Day\n",
      "\u001b[32mOpening Weekend\n",
      "1997-10-03\n",
      "\u001b[32mPre-release Screening: 1997-10-03\n",
      "\u001b[32mMax Theatres: 12\n",
      "\u001b[32mDistributor: Orion Pictures\n"
     ]
    }
   ],
   "source": [
    "scrape(six, 'thirteen')"
   ]
  },
  {
   "cell_type": "code",
   "execution_count": 30,
   "metadata": {},
   "outputs": [
    {
     "name": "stdout",
     "output_type": "stream",
     "text": [
      "\u001b[32mOpening Day\n",
      "\u001b[32mOpening Weekend\n",
      "2019-11-08\n",
      "\u001b[32mPre-release Screening: 2019-11-08\n",
      "\u001b[32mMax Theatres: 88\n",
      "\u001b[32mDistributor: Well Go USA Entertainment\n"
     ]
    }
   ],
   "source": [
    "scrape(seven, 'fourteen')"
   ]
  }
 ],
 "metadata": {
  "kernelspec": {
   "display_name": "Python 3",
   "language": "python",
   "name": "python3"
  },
  "language_info": {
   "codemirror_mode": {
    "name": "ipython",
    "version": 3
   },
   "file_extension": ".py",
   "mimetype": "text/x-python",
   "name": "python",
   "nbconvert_exporter": "python",
   "pygments_lexer": "ipython3",
   "version": "3.7.4"
  }
 },
 "nbformat": 4,
 "nbformat_minor": 4
}
