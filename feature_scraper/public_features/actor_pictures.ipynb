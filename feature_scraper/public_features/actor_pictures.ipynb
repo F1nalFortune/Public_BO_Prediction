{
 "cells": [
  {
   "cell_type": "code",
   "execution_count": 98,
   "metadata": {},
   "outputs": [],
   "source": [
    "from requests import get\n",
    "from bs4 import BeautifulSoup\n",
    "import re\n",
    "import pandas as pd\n",
    "from time import sleep\n",
    "from random import randint\n",
    "from time import time\n",
    "from IPython.core.display import clear_output\n",
    "from warnings import warn\n",
    "import pandas as pd\n",
    "import numpy as np\n",
    "import math\n",
    "import os\n",
    "import unicodedata\n",
    "import string\n",
    "import time\n",
    "from functools import wraps\n",
    "from colorama import Fore\n",
    "from selenium import webdriver\n",
    "from selenium.webdriver.common.keys import Keys\n",
    "from selenium.webdriver.common.by import By\n",
    "from selenium.webdriver.support.ui import WebDriverWait\n",
    "from selenium.webdriver.support import expected_conditions as EC\n",
    "from selenium.common.exceptions import TimeoutException\n",
    "from selenium.common.exceptions import ElementNotVisibleException\n",
    "from requests import ReadTimeout, ConnectTimeout, HTTPError, Timeout, ConnectionError\n",
    "import datetime\n",
    "from dateutil.parser import parse"
   ]
  },
  {
   "cell_type": "code",
   "execution_count": 99,
   "metadata": {},
   "outputs": [],
   "source": [
    "import pandas as pd\n",
    "import numpy as np\n",
    "import datetime\n",
    "import dateutil\n",
    "from datetime import timedelta\n",
    "from IPython.core.display import clear_output\n",
    "from collections import Counter\n",
    "pd.set_option('display.max_columns', 500)\n",
    "import ast\n",
    "from collections import Counter\n",
    "import re\n",
    "from tqdm.notebook import tqdm, tnrange\n",
    "tqdm.pandas()\n",
    "\n",
    "from PIL import Image\n",
    "import requests\n",
    "import bs4\n",
    "\n",
    "\n",
    "def createDataset():\n",
    "\n",
    "\n",
    "  def createDf():\n",
    "    path = \"../data(fixed)/features/full_\"\n",
    "    paths = ['one', 'two', 'three', 'four', 'five', 'six']\n",
    "    df = pd.DataFrame()\n",
    "    for val in paths:\n",
    "      df = df.append(pd.read_csv(f\"{path}{val}.csv\"))\n",
    "    return df\n",
    "\n",
    "  df = createDf()\n",
    "\n",
    "  #DROP INVALID DISTRIBUTOR COLUMNS\n",
    "  df = df.drop(columns=['distributor'])\n",
    "\n",
    "  #DROP MOVIES WITHOUT DEPENDENT VARIABLE DATA\n",
    "  # df.dropna(subset=['box_office'], inplace=True)\n",
    "\n",
    "  #DROP DUPLICATE MOVIES\n",
    "  df = df.drop_duplicates(subset=['profile'])\n",
    "  df = df.reset_index(drop=True)\n",
    "\n",
    "  \n",
    "  #CLEAN BOX OFFICE DATA\n",
    "  def cleanBoxOffice(row):\n",
    "    if type(row)==str:\n",
    "      if '$' in row:\n",
    "        return int(row.replace(\"$\", \"\"))\n",
    "      else:\n",
    "        return np.nan\n",
    "    else:\n",
    "      return np.nan\n",
    "  df['box_office'] = df['box_office'].progress_apply(cleanBoxOffice)\n",
    "  # df = df.dropna(subset=['box_office'])\n",
    "  df = df.reset_index(drop=True)\n",
    "  \n",
    "  \n",
    "  df = df.sort_values('box_office', ascending=False)\n",
    "\n",
    "  '''\n",
    "    CONVERT COLUMNS TO LISTS\n",
    "  '''\n",
    "  import ast\n",
    "\n",
    "  def cleanColumn(row):\n",
    "    try:\n",
    "      if type(row)==str:\n",
    "        values = ast.literal_eval(row)\n",
    "        if type(values)!=dict:\n",
    "          cleaned_values=[]\n",
    "          for val in values:\n",
    "            val = val.replace(\",\", \"\").strip()\n",
    "            cleaned_values.append(val)\n",
    "          return cleaned_values\n",
    "        else:\n",
    "          return values\n",
    "      else:\n",
    "        return np.nan\n",
    "    except:\n",
    "      return np.nan\n",
    "\n",
    "  columns = ['sequel',\n",
    "  'cast_members',\n",
    "  'cast_anchors',\n",
    "  'directors',\n",
    "  'director_anchors',\n",
    "  'director_credits',\n",
    "  'pro_comp',\n",
    "  'spec_eff',\n",
    "  'sound_mix',\n",
    "  'stars',\n",
    "  'star_anchs',\n",
    "  'screen_writers',\n",
    "  'screen_anchors',\n",
    "  'screen_credits',\n",
    "  'producers',\n",
    "  'prod_anchors',\n",
    "  'prod_credits',\n",
    "  'genre',\n",
    "  'comp_count',\n",
    "  'cast_count']\n",
    "\n",
    "  for value in tqdm(columns):\n",
    "    tqdm.pandas(desc=\"Creating Datetime\")\n",
    "    df[value] = df[value].apply(cleanColumn)\n",
    "\n",
    "  df['cast'] = df['cast_members']\n",
    "  df = df.drop(columns=['cast_members', 'sequels'])\n",
    "\n",
    "  '''\n",
    "    CONVERT DATE INTO ISO FORMAT\n",
    "  '''\n",
    "  def createDates(row):\n",
    "    if type(row)==str:\n",
    "      return dateutil.parser.parse(row).strftime('%Y-%m-%d')\n",
    "    else:\n",
    "      return np.nan\n",
    "\n",
    "  def createDateTime(row):\n",
    "    row = row.split(\"-\")\n",
    "    row = datetime.datetime(int(row[0]), int(row[1]), int(row[2]))\n",
    "    return row\n",
    "\n",
    "  tqdm.pandas(desc=\"Creating Date\")\n",
    "  df['date'] = df['release'].progress_apply(createDates)\n",
    "  df = df.dropna(subset=['date'])\n",
    "  df = df.reset_index(drop=True)\n",
    "\n",
    "  tqdm.pandas(desc=\"Creating Datetime\")\n",
    "  df['datetime'] = df['date'].progress_apply(createDateTime)\n",
    "  tqdm.pandas(desc=\"Creating Year Column\")\n",
    "  df['year'] = df['datetime'].progress_apply(lambda x: x.year)\n",
    "  tqdm.pandas(desc=\"Creating Month Column\")\n",
    "  df['month'] = df['datetime'].progress_apply(lambda x: x.month)\n",
    "  \n",
    "  df['Year'] = df['year']\n",
    "\n",
    "  final_df = pd.read_csv(\"../data(fixed)/datasets/phelps_dataset(inflation).csv\")\n",
    "\n",
    "\n",
    "  df = df[['name', 'Year', 'profile', 'star_anchs', 'stars']]\n",
    "  final_df = final_df[['name', 'Year']]\n",
    "\n",
    "  new_df = pd.merge(final_df, df,  how='left', on=['name','Year'])\n",
    "  return new_df"
   ]
  },
  {
   "cell_type": "code",
   "execution_count": 100,
   "metadata": {},
   "outputs": [],
   "source": [
    "def retry(ExceptionToCheck, tries=20, delay=3, backoff=2, logger=None):\n",
    "  \"\"\"\n",
    "    Modified from source: http://wiki.python.org/moin/PythonDecoratorLibrary#Retry\n",
    "\n",
    "    Objective\n",
    "    ----------\n",
    "    Exponential backoff function.\n",
    "\n",
    "    Parameters\n",
    "    ----------\n",
    "    ExceptionToCheck : Exception or tuple\n",
    "      the exception to check. may be a tuple of exceptions to check\n",
    "      Possible values:\n",
    "        ConnectionResetError, (TimeoutError, ConnectionError)\n",
    "    tries : int\n",
    "      number of times to try (not retry) before giving up\n",
    "    delay : int\n",
    "      initial delay between retries in seconds\n",
    "    backoff: int\n",
    "      backoff multiplier\n",
    "      E.g. value of 2 will double the delay each retry\n",
    "    logger : logging.Logger instance\n",
    "      logger to use\n",
    "  \"\"\"\n",
    "  def deco_retry(f):\n",
    "    @wraps(f)\n",
    "    def f_retry(*args, **kwargs):\n",
    "      mtries, mdelay = tries, delay\n",
    "      while mtries > 1:\n",
    "        try:\n",
    "          return f(*args, **kwargs)\n",
    "        except ExceptionToCheck:\n",
    "          msg = \"%s, Retrying in %d seconds...\" % (str(ExceptionToCheck), mdelay)\n",
    "          if logger:\n",
    "            #logger.exception(msg) # would print stack trace\n",
    "            logger.warning(msg)\n",
    "          else:\n",
    "            print(msg)\n",
    "          time.sleep(mdelay)\n",
    "          mtries -= 1\n",
    "          mdelay *= backoff\n",
    "        return f(*args, **kwargs)\n",
    "      return f_retry  # true decorator\n",
    "  return deco_retry  "
   ]
  },
  {
   "cell_type": "code",
   "execution_count": 101,
   "metadata": {},
   "outputs": [],
   "source": [
    "from requests import get\n",
    "from bs4 import BeautifulSoup\n",
    "import re\n",
    "import pandas as pd\n",
    "from time import sleep\n",
    "from random import randint\n",
    "from time import time\n",
    "from IPython.core.display import clear_output\n",
    "from warnings import warn\n",
    "import pandas as pd\n",
    "import numpy as np\n",
    "import math\n",
    "import os\n",
    "import unicodedata\n",
    "import string\n",
    "import time\n",
    "from functools import wraps\n",
    "from colorama import Fore\n",
    "from requests import ReadTimeout, ConnectTimeout, HTTPError, Timeout, ConnectionError"
   ]
  },
  {
   "cell_type": "code",
   "execution_count": null,
   "metadata": {},
   "outputs": [],
   "source": [
    "PATH = \"INSERT PATH HERE\""
   ]
  },
  {
   "cell_type": "code",
   "execution_count": 102,
   "metadata": {},
   "outputs": [],
   "source": [
    "# Store data in lists\n",
    "def scrapeMovies(data):\n",
    "  #for every page\n",
    "  counter=count\n",
    "  for row in data.itertuples():\n",
    "    name = row.actor\n",
    "    anchor = row.anchor\n",
    "    filename = anchor.replace(\"/name/nm\", \"\").replace(\"/\", \"\")\n",
    "    counter+=1\n",
    "    '''\n",
    "      ACTOR PROFILES\n",
    "    '''\n",
    "    driver = webdriver.Chrome(f\"{PATH}\", chrome_options=options)\n",
    "    try:\n",
    "      actor_link = f\"https://www.imdb.com{anchor}\"\n",
    "      actor_name = name.replace(\" \", \"_\")\n",
    "      @retry((ReadTimeout, ConnectTimeout, HTTPError, Timeout, ConnectionError), tries=20, delay=2,backoff=2)\n",
    "      def get_response(link):\n",
    "        driver.get(link)\n",
    "      get_response(actor_link)\n",
    "    \n",
    "      actor_html = BeautifulSoup(driver.page_source, 'html.parser')\n",
    "\n",
    "      image_url = actor_html.find('img', attrs={'id':'name-poster'})['src']\n",
    "      img = Image.open(requests.get(image_url, stream = True).raw)\n",
    "      img.save(f'./actors/{filename}.jpg')\n",
    "      actor_one = f\"./actors/{filename}.jpg\"\n",
    "      print(Fore.GREEN + f'{actor_name}: {counter}')\n",
    "    except:\n",
    "      actor_one = np.nan\n",
    "      print(Fore.RED +  f'{actor_name}: {counter}')\n",
    "      \n",
    "      \n",
    "    driver.quit()\n",
    "    clear_output(wait = True)"
   ]
  },
  {
   "cell_type": "code",
   "execution_count": 88,
   "metadata": {},
   "outputs": [
    {
     "name": "stderr",
     "output_type": "stream",
     "text": [
      "/opt/anaconda3/envs/boxoffice/lib/python3.7/site-packages/IPython/core/interactiveshell.py:3319: DtypeWarning: Columns (29) have mixed types. Specify dtype option on import or set low_memory=False.\n",
      "  exec(code_obj, self.user_global_ns, self.user_ns)\n"
     ]
    },
    {
     "data": {
      "application/vnd.jupyter.widget-view+json": {
       "model_id": "25f2e4601a704bb29ab3427281eee8ae",
       "version_major": 2,
       "version_minor": 0
      },
      "text/plain": [
       "HBox(children=(FloatProgress(value=0.0, description='Creating Month Column', max=367802.0, style=ProgressStyle…"
      ]
     },
     "metadata": {},
     "output_type": "display_data"
    },
    {
     "name": "stdout",
     "output_type": "stream",
     "text": [
      "\n"
     ]
    },
    {
     "data": {
      "application/vnd.jupyter.widget-view+json": {
       "model_id": "7e13928928a04cae9cb0cadec632afb5",
       "version_major": 2,
       "version_minor": 0
      },
      "text/plain": [
       "HBox(children=(FloatProgress(value=0.0, max=20.0), HTML(value='')))"
      ]
     },
     "metadata": {},
     "output_type": "display_data"
    },
    {
     "name": "stdout",
     "output_type": "stream",
     "text": [
      "\n"
     ]
    },
    {
     "data": {
      "application/vnd.jupyter.widget-view+json": {
       "model_id": "f789758b27c643668e13628d63cc45be",
       "version_major": 2,
       "version_minor": 0
      },
      "text/plain": [
       "HBox(children=(FloatProgress(value=0.0, description='Creating Date', max=367802.0, style=ProgressStyle(descrip…"
      ]
     },
     "metadata": {},
     "output_type": "display_data"
    },
    {
     "name": "stdout",
     "output_type": "stream",
     "text": [
      "\n"
     ]
    },
    {
     "data": {
      "application/vnd.jupyter.widget-view+json": {
       "model_id": "307ed503bc5244ccb90f6a28a2e87e00",
       "version_major": 2,
       "version_minor": 0
      },
      "text/plain": [
       "HBox(children=(FloatProgress(value=0.0, description='Creating Datetime', max=271993.0, style=ProgressStyle(des…"
      ]
     },
     "metadata": {},
     "output_type": "display_data"
    },
    {
     "name": "stdout",
     "output_type": "stream",
     "text": [
      "\n"
     ]
    },
    {
     "data": {
      "application/vnd.jupyter.widget-view+json": {
       "model_id": "f3421f569cf2401897413de3bd3b8d83",
       "version_major": 2,
       "version_minor": 0
      },
      "text/plain": [
       "HBox(children=(FloatProgress(value=0.0, description='Creating Year Column', max=271993.0, style=ProgressStyle(…"
      ]
     },
     "metadata": {},
     "output_type": "display_data"
    },
    {
     "name": "stdout",
     "output_type": "stream",
     "text": [
      "\n"
     ]
    },
    {
     "data": {
      "application/vnd.jupyter.widget-view+json": {
       "model_id": "6bfd099ef5a647e6bd7d14845ded0722",
       "version_major": 2,
       "version_minor": 0
      },
      "text/plain": [
       "HBox(children=(FloatProgress(value=0.0, description='Creating Month Column', max=271993.0, style=ProgressStyle…"
      ]
     },
     "metadata": {},
     "output_type": "display_data"
    },
    {
     "name": "stdout",
     "output_type": "stream",
     "text": [
      "\n"
     ]
    },
    {
     "data": {
      "text/plain": [
       "6073"
      ]
     },
     "execution_count": 88,
     "metadata": {},
     "output_type": "execute_result"
    }
   ],
   "source": [
    "options = webdriver.ChromeOptions()\n",
    "options.add_argument(\"no-sandbox\")\n",
    "options.add_argument(\"disable-dev-shm-usage\")\n",
    "options.add_argument(\"headless\")\n",
    "\n",
    "options.add_argument(f\"{path}\")\n",
    "df = createDataset()\n",
    "df = df.dropna(subset=['stars', 'star_anchs'])\n",
    "\n",
    "stars = []\n",
    "star_anchs = []\n",
    "for row in df.itertuples():\n",
    "  stars.append(row.stars[0])\n",
    "  star_anchs.append(row.star_anchs[0])\n",
    "  \n",
    "actor_data = pd.DataFrame({\n",
    "  'actor': stars,\n",
    "  'anchor': star_anchs\n",
    "})\n",
    "actor_data = actor_data.drop_duplicates(subset=['anchor'])\n",
    "len(actor_data)"
   ]
  },
  {
   "cell_type": "code",
   "execution_count": 91,
   "metadata": {},
   "outputs": [
    {
     "data": {
      "text/plain": [
       "'0001794'"
      ]
     },
     "execution_count": 91,
     "metadata": {},
     "output_type": "execute_result"
    }
   ],
   "source": [
    "actor_data['anchor'][0].replace(\"/name/nm\", \"\").replace(\"/\", \"\")"
   ]
  },
  {
   "cell_type": "code",
   "execution_count": 103,
   "metadata": {},
   "outputs": [
    {
     "name": "stdout",
     "output_type": "stream",
     "text": [
      "\u001b[32mLeo_Grillo: 15622\n"
     ]
    }
   ],
   "source": [
    "scrapeMovies(actor_data)"
   ]
  },
  {
   "cell_type": "code",
   "execution_count": null,
   "metadata": {},
   "outputs": [],
   "source": [
    "# starts at 9570"
   ]
  },
  {
   "cell_type": "code",
   "execution_count": 46,
   "metadata": {},
   "outputs": [],
   "source": [
    "import pathlib\n",
    "\n",
    "count = 0\n",
    "for path in pathlib.Path(\"./actors/\").iterdir():\n",
    "    if path.is_file():\n",
    "        count += 1"
   ]
  },
  {
   "cell_type": "code",
   "execution_count": 47,
   "metadata": {},
   "outputs": [
    {
     "data": {
      "text/plain": [
       "9549"
      ]
     },
     "execution_count": 47,
     "metadata": {},
     "output_type": "execute_result"
    }
   ],
   "source": [
    "count"
   ]
  }
 ],
 "metadata": {
  "kernelspec": {
   "display_name": "business_analytics",
   "language": "python",
   "name": "business_analytics"
  },
  "language_info": {
   "codemirror_mode": {
    "name": "ipython",
    "version": 3
   },
   "file_extension": ".py",
   "mimetype": "text/x-python",
   "name": "python",
   "nbconvert_exporter": "python",
   "pygments_lexer": "ipython3",
   "version": "3.7.3"
  }
 },
 "nbformat": 4,
 "nbformat_minor": 4
}
