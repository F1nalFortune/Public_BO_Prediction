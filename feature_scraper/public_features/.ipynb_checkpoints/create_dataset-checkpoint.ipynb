{
 "cells": [
  {
   "cell_type": "code",
   "execution_count": 2,
   "metadata": {},
   "outputs": [],
   "source": [
    "def createDataset(num_classes, text=False):\n",
    "  import pandas as pd\n",
    "  import ast\n",
    "  print(\"Reading data....\")\n",
    "  path = \"../../data(fixed)/datasets/\"\n",
    "\n",
    "  df = pd.read_csv(f\"{path}phelps_dataset(inflation).csv\")\n",
    "  \n",
    "  return df"
   ]
  }
 ],
 "metadata": {
  "kernelspec": {
   "display_name": "business_analytics",
   "language": "python",
   "name": "business_analytics"
  },
  "language_info": {
   "codemirror_mode": {
    "name": "ipython",
    "version": 3
   },
   "file_extension": ".py",
   "mimetype": "text/x-python",
   "name": "python",
   "nbconvert_exporter": "python",
   "pygments_lexer": "ipython3",
   "version": "3.7.3"
  }
 },
 "nbformat": 4,
 "nbformat_minor": 4
}
