{
 "cells": [
  {
   "cell_type": "code",
   "execution_count": 17,
   "metadata": {},
   "outputs": [],
   "source": [
    "import nbimporter\n",
    "from selection_assessment import nested_cross_val, base_performance, weightsArr, most_confused, roc_curve\n",
    "\n",
    "#Python3\n",
    "import pandas as pd\n",
    "\n",
    "import warnings\n",
    "warnings.filterwarnings('ignore')"
   ]
  },
  {
   "cell_type": "code",
   "execution_count": 2,
   "metadata": {},
   "outputs": [],
   "source": [
    "import catboost"
   ]
  },
  {
   "cell_type": "markdown",
   "metadata": {},
   "source": [
    "### Create dataset"
   ]
  },
  {
   "cell_type": "code",
   "execution_count": 3,
   "metadata": {},
   "outputs": [],
   "source": [
    "num_classes=4\n",
    "# df = createDataset()\n",
    "df = pd.read_csv(\"../../../data/datasets/classification_final(domestic).csv\",index_col=0)\n",
    "df=df.drop(columns=['profile','box_office'])"
   ]
  },
  {
   "cell_type": "markdown",
   "metadata": {},
   "source": [
    "### Perform Random Search CV"
   ]
  },
  {
   "cell_type": "markdown",
   "metadata": {},
   "source": [
    "### Select Random Grid"
   ]
  },
  {
   "cell_type": "code",
   "execution_count": 4,
   "metadata": {},
   "outputs": [
    {
     "name": "stdout",
     "output_type": "stream",
     "text": [
      "{'class_weights': [[0.4763770180436847,\n",
      "                    0.7802706552706553,\n",
      "                    0.8719135802469136,\n",
      "                    0.8714387464387464]],\n",
      " 'depth': [2, 3, 4, 5, 6, 7],\n",
      " 'iterations': [200,\n",
      "                400,\n",
      "                600,\n",
      "                800,\n",
      "                1000,\n",
      "                1200,\n",
      "                1400,\n",
      "                1600,\n",
      "                1800,\n",
      "                2000,\n",
      "                2200,\n",
      "                2400,\n",
      "                2600,\n",
      "                2800],\n",
      " 'l2_leaf_reg': [1, 2, 3, 4, 5, 6],\n",
      " 'learning_rate': [0.05, 0.1, 0.15],\n",
      " 'random_state': [42],\n",
      " 'silent': [True]}\n"
     ]
    }
   ],
   "source": [
    "depth = [i for i in range(2,8)]\n",
    "\n",
    "learning_rate =[0.05, 0.1, 0.15]\n",
    "\n",
    "l2_leaf_reg = [i+1 for i in range(6)]\n",
    "\n",
    "iterations = [i for i in range(200,3000,200)]\n",
    "\n",
    "# cat_features = [[i for i in range(2,11)]]\n",
    "\n",
    "# text_features = [[0,1]]\n",
    "\n",
    "random_grid = {'depth': depth,\n",
    "               'learning_rate': learning_rate,\n",
    "               'l2_leaf_reg': l2_leaf_reg,\n",
    "               'iterations': iterations,\n",
    "               'class_weights':[weightsArr(df['classification'])],\n",
    "          'random_state' : [42],\n",
    "          'silent':[True]\n",
    "#                 'task_type': 'GPU',\n",
    "#                 'devices':'0:1'#,\n",
    "#                'cat_features': cat_features,\n",
    "#                'text_features': text_features\n",
    "              }\n",
    "\n",
    "from pprint import pprint\n",
    "pprint(random_grid)"
   ]
  },
  {
   "cell_type": "markdown",
   "metadata": {},
   "source": [
    "### Fit Random Search Model"
   ]
  },
  {
   "cell_type": "code",
   "execution_count": 6,
   "metadata": {},
   "outputs": [
    {
     "data": {
      "application/vnd.jupyter.widget-view+json": {
       "model_id": "e9da78836d3144a9b5b23a2931b5e685",
       "version_major": 2,
       "version_minor": 0
      },
      "text/plain": [
       "HBox(children=(FloatProgress(value=0.0, max=10.0), HTML(value='')))"
      ]
     },
     "metadata": {},
     "output_type": "display_data"
    },
    {
     "name": "stdout",
     "output_type": "stream",
     "text": [
      ">acc=0.89, est=0.908, cfg={'silent': True, 'random_state': 42, 'learning_rate': 0.15, 'l2_leaf_reg': 5, 'iterations': 2200, 'depth': 7, 'class_weights': [0.4763770180436847, 0.7802706552706553, 0.8719135802469136, 0.8714387464387464]}\n",
      ">acc=0.87, est=0.908, cfg={'silent': True, 'random_state': 42, 'learning_rate': 0.05, 'l2_leaf_reg': 2, 'iterations': 2600, 'depth': 7, 'class_weights': [0.4763770180436847, 0.7802706552706553, 0.8719135802469136, 0.8714387464387464]}\n",
      ">acc=0.89, est=0.906, cfg={'silent': True, 'random_state': 42, 'learning_rate': 0.05, 'l2_leaf_reg': 1, 'iterations': 2000, 'depth': 6, 'class_weights': [0.4763770180436847, 0.7802706552706553, 0.8719135802469136, 0.8714387464387464]}\n",
      ">acc=0.89, est=0.904, cfg={'silent': True, 'random_state': 42, 'learning_rate': 0.1, 'l2_leaf_reg': 3, 'iterations': 1600, 'depth': 6, 'class_weights': [0.4763770180436847, 0.7802706552706553, 0.8719135802469136, 0.8714387464387464]}\n",
      ">acc=0.90, est=0.909, cfg={'silent': True, 'random_state': 42, 'learning_rate': 0.1, 'l2_leaf_reg': 2, 'iterations': 2200, 'depth': 7, 'class_weights': [0.4763770180436847, 0.7802706552706553, 0.8719135802469136, 0.8714387464387464]}\n",
      ">acc=0.93, est=0.905, cfg={'silent': True, 'random_state': 42, 'learning_rate': 0.05, 'l2_leaf_reg': 1, 'iterations': 1600, 'depth': 7, 'class_weights': [0.4763770180436847, 0.7802706552706553, 0.8719135802469136, 0.8714387464387464]}\n",
      ">acc=0.93, est=0.907, cfg={'silent': True, 'random_state': 42, 'learning_rate': 0.05, 'l2_leaf_reg': 1, 'iterations': 800, 'depth': 7, 'class_weights': [0.4763770180436847, 0.7802706552706553, 0.8719135802469136, 0.8714387464387464]}\n",
      ">acc=0.91, est=0.910, cfg={'silent': True, 'random_state': 42, 'learning_rate': 0.05, 'l2_leaf_reg': 1, 'iterations': 1600, 'depth': 7, 'class_weights': [0.4763770180436847, 0.7802706552706553, 0.8719135802469136, 0.8714387464387464]}\n",
      ">acc=0.94, est=0.907, cfg={'silent': True, 'random_state': 42, 'learning_rate': 0.05, 'l2_leaf_reg': 3, 'iterations': 2800, 'depth': 7, 'class_weights': [0.4763770180436847, 0.7802706552706553, 0.8719135802469136, 0.8714387464387464]}\n",
      ">acc=0.96, est=0.904, cfg={'silent': True, 'random_state': 42, 'learning_rate': 0.15, 'l2_leaf_reg': 1, 'iterations': 2400, 'depth': 7, 'class_weights': [0.4763770180436847, 0.7802706552706553, 0.8719135802469136, 0.8714387464387464]}\n",
      "\n",
      "Balanced Accuracy: 0.912 (0.027)\n",
      "CPU times: user 6d 4h 23min 18s, sys: 7h 59min 48s, total: 6d 12h 23min 7s\n",
      "Wall time: 5d 1h 58min 56s\n"
     ]
    }
   ],
   "source": [
    "%%time\n",
    "model =catboost.CatBoostClassifier\n",
    "rs_eval = nested_cross_val(df=df,model=model,space=random_grid, n_iter=200,scoring='balanced_accuracy',num_classes=4,outer=10,inner=3,seed=42)"
   ]
  },
  {
   "cell_type": "markdown",
   "metadata": {},
   "source": [
    "### Evaluate Results"
   ]
  },
  {
   "cell_type": "code",
   "execution_count": null,
   "metadata": {},
   "outputs": [],
   "source": [
    "base_performance(df,model,outer=10,seed=seed,tuned_acc=tuned_acc)"
   ]
  },
  {
   "cell_type": "markdown",
   "metadata": {},
   "source": [
    "### Grid Search"
   ]
  },
  {
   "cell_type": "code",
   "execution_count": null,
   "metadata": {},
   "outputs": [],
   "source": [
    "tuned_grid = {\n",
    "  'num_leaves': [300,400,500], \n",
    "  'max_bin': [175,255,510],\n",
    "  'num_iterations': [700,800,900], \n",
    "  'learning_rate':[0.05,0.1,0.15],\n",
    "  'boosting_type': ['gbdt', 'dart'],\n",
    "  'max_depth': [-1, 5, 10],\n",
    "  'class_weights': weightsArr(df['classification'])\n",
    "}"
   ]
  },
  {
   "cell_type": "code",
   "execution_count": null,
   "metadata": {},
   "outputs": [],
   "source": [
    "grid_nested_cross_val(df=df,outer=10,inner=3,model=model,space=tuned_grid, n_iter=200,scoring='balanced_accuracy',seed=seed)"
   ]
  },
  {
   "cell_type": "code",
   "execution_count": 13,
   "metadata": {},
   "outputs": [
    {
     "data": {
      "text/html": [
       "<div>\n",
       "<style scoped>\n",
       "    .dataframe tbody tr th:only-of-type {\n",
       "        vertical-align: middle;\n",
       "    }\n",
       "\n",
       "    .dataframe tbody tr th {\n",
       "        vertical-align: top;\n",
       "    }\n",
       "\n",
       "    .dataframe thead th {\n",
       "        text-align: right;\n",
       "    }\n",
       "</style>\n",
       "<table border=\"1\" class=\"dataframe\">\n",
       "  <thead>\n",
       "    <tr style=\"text-align: right;\">\n",
       "      <th></th>\n",
       "      <th>outer_scores</th>\n",
       "      <th>outer_estimates</th>\n",
       "      <th>outer_configurations</th>\n",
       "      <th>error_indices</th>\n",
       "      <th>ground_truth</th>\n",
       "      <th>predicted_labels</th>\n",
       "      <th>predicted_probas</th>\n",
       "      <th>outer_average</th>\n",
       "    </tr>\n",
       "  </thead>\n",
       "  <tbody>\n",
       "    <tr>\n",
       "      <th>0</th>\n",
       "      <td>[0.88859323124029, 0.8732812244935443, 0.88647...</td>\n",
       "      <td>[0.9076639095103829, 0.9081035872282665, 0.906...</td>\n",
       "      <td>[{'silent': True, 'random_state': 42, 'learnin...</td>\n",
       "      <td>[3, 8, 33, 39, 43, 45, 46, 57, 67, 90, 98, 103...</td>\n",
       "      <td>[0.0, 0.0, 0.0, 3.0, 0.0, 2.0, 2.0, 0.0, 3.0, ...</td>\n",
       "      <td>[0.0, 0.0, 0.0, 2.0, 0.0, 2.0, 2.0, 0.0, 2.0, ...</td>\n",
       "      <td>[[0.9996403900117505, 2.765994699979821e-05, 0...</td>\n",
       "      <td>0.911911</td>\n",
       "    </tr>\n",
       "  </tbody>\n",
       "</table>\n",
       "</div>"
      ],
      "text/plain": [
       "                                        outer_scores  \\\n",
       "0  [0.88859323124029, 0.8732812244935443, 0.88647...   \n",
       "\n",
       "                                     outer_estimates  \\\n",
       "0  [0.9076639095103829, 0.9081035872282665, 0.906...   \n",
       "\n",
       "                                outer_configurations  \\\n",
       "0  [{'silent': True, 'random_state': 42, 'learnin...   \n",
       "\n",
       "                                       error_indices  \\\n",
       "0  [3, 8, 33, 39, 43, 45, 46, 57, 67, 90, 98, 103...   \n",
       "\n",
       "                                        ground_truth  \\\n",
       "0  [0.0, 0.0, 0.0, 3.0, 0.0, 2.0, 2.0, 0.0, 3.0, ...   \n",
       "\n",
       "                                    predicted_labels  \\\n",
       "0  [0.0, 0.0, 0.0, 2.0, 0.0, 2.0, 2.0, 0.0, 2.0, ...   \n",
       "\n",
       "                                    predicted_probas  outer_average  \n",
       "0  [[0.9996403900117505, 2.765994699979821e-05, 0...       0.911911  "
      ]
     },
     "execution_count": 13,
     "metadata": {},
     "output_type": "execute_result"
    }
   ],
   "source": []
  },
  {
   "cell_type": "code",
   "execution_count": 8,
   "metadata": {},
   "outputs": [],
   "source": [
    "'''\n",
    "  REPORT RESULTS\n",
    "'''\n",
    "\n",
    "rs_eval.to_csv(\"catboost_results.csv\")"
   ]
  },
  {
   "cell_type": "markdown",
   "metadata": {},
   "source": [
    "### Confusion Matrix KFOLD"
   ]
  },
  {
   "cell_type": "code",
   "execution_count": 14,
   "metadata": {},
   "outputs": [],
   "source": [
    "y_true,y_pred=rs_eval['ground_truth'][0], rs_eval['predicted_labels'][0]"
   ]
  },
  {
   "cell_type": "code",
   "execution_count": 15,
   "metadata": {},
   "outputs": [
    {
     "data": {
      "image/png": "[encoded data removed]",
      "text/plain": [
       "<Figure size 432x288 with 2 Axes>"
      ]
     },
     "metadata": {},
     "output_type": "display_data"
    }
   ],
   "source": [
    "most_confused(y_true,y_pred,normalize=True)"
   ]
  },
  {
   "cell_type": "markdown",
   "metadata": {},
   "source": [
    "### ROC Curve KFOLD"
   ]
  },
  {
   "cell_type": "code",
   "execution_count": 18,
   "metadata": {},
   "outputs": [
    {
     "data": {
      "image/png": "[encoded data removed]",
      "text/plain": [
       "<Figure size 432x288 with 1 Axes>"
      ]
     },
     "metadata": {
      "needs_background": "light"
     },
     "output_type": "display_data"
    }
   ],
   "source": [
    "roc_curve(rs_eval['ground_truth'][0], rs_eval['predicted_probas'][0])"
   ]
  }
 ],
 "metadata": {
  "kernelspec": {
   "display_name": "Python 3",
   "language": "python",
   "name": "python3"
  },
  "language_info": {
   "codemirror_mode": {
    "name": "ipython",
    "version": 3
   },
   "file_extension": ".py",
   "mimetype": "text/x-python",
   "name": "python",
   "nbconvert_exporter": "python",
   "pygments_lexer": "ipython3",
   "version": "3.7.4"
  }
 },
 "nbformat": 4,
 "nbformat_minor": 4
}
