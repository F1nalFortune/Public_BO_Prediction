{
 "cells": [
  {
   "cell_type": "markdown",
   "metadata": {},
   "source": [
    "# Imports"
   ]
  },
  {
   "cell_type": "code",
   "execution_count": 1,
   "metadata": {},
   "outputs": [
    {
     "name": "stdout",
     "output_type": "stream",
     "text": [
      "Importing Jupyter notebook from my_functions.ipynb\n"
     ]
    }
   ],
   "source": [
    "import nbimporter\n",
    "from my_functions import nested_cross_val\n",
    "\n",
    "#Python3\n",
    "import pandas as pd\n",
    "\n",
    "import warnings\n",
    "warnings.filterwarnings('ignore')"
   ]
  },
  {
   "cell_type": "code",
   "execution_count": 2,
   "metadata": {},
   "outputs": [],
   "source": [
    "import xgboost as xgb"
   ]
  },
  {
   "cell_type": "markdown",
   "metadata": {},
   "source": [
    "#### DATA"
   ]
  },
  {
   "cell_type": "code",
   "execution_count": 3,
   "metadata": {},
   "outputs": [],
   "source": [
    "df = pd.read_csv(\"../../../data/datasets/regression_final(domestic).csv\", index_col=0)\n",
    "df=df.drop(columns=['profile','reviews'])"
   ]
  },
  {
   "cell_type": "code",
   "execution_count": 4,
   "metadata": {},
   "outputs": [
    {
     "name": "stdout",
     "output_type": "stream",
     "text": [
      "Parameters currently in use:\n",
      "{'base_score': None,\n",
      " 'booster': None,\n",
      " 'colsample_bylevel': None,\n",
      " 'colsample_bynode': None,\n",
      " 'colsample_bytree': None,\n",
      " 'gamma': None,\n",
      " 'gpu_id': None,\n",
      " 'importance_type': 'gain',\n",
      " 'interaction_constraints': None,\n",
      " 'learning_rate': None,\n",
      " 'max_delta_step': None,\n",
      " 'max_depth': None,\n",
      " 'min_child_weight': None,\n",
      " 'missing': nan,\n",
      " 'monotone_constraints': None,\n",
      " 'n_estimators': 100,\n",
      " 'n_jobs': None,\n",
      " 'num_parallel_tree': None,\n",
      " 'objective': 'reg:squarederror',\n",
      " 'random_state': None,\n",
      " 'reg_alpha': None,\n",
      " 'reg_lambda': None,\n",
      " 'scale_pos_weight': None,\n",
      " 'subsample': None,\n",
      " 'tree_method': None,\n",
      " 'validate_parameters': None,\n",
      " 'verbosity': None}\n"
     ]
    }
   ],
   "source": [
    "from pprint import pprint\n",
    "\n",
    "clf = xgb.XGBRegressor()\n",
    "print(f\"Parameters currently in use:\")\n",
    "pprint(clf.get_params())"
   ]
  },
  {
   "cell_type": "markdown",
   "metadata": {},
   "source": [
    "### Select Random Grid"
   ]
  },
  {
   "cell_type": "code",
   "execution_count": 5,
   "metadata": {},
   "outputs": [
    {
     "name": "stdout",
     "output_type": "stream",
     "text": [
      "{'gamma': [0, 1, 2, 3, 4, 5],\n",
      " 'learning_rate': [0.03, 0.05, 0.1, 0.15],\n",
      " 'max_bin': [255, 510, 1020, 1530, 2040],\n",
      " 'max_depth': [0, 1, 6, 11, 16, 21, 26, 31, 36, 41, 46],\n",
      " 'max_leaves': [0, 31, 100, 200, 300, 400, 500, 600, 700, 800, 900],\n",
      " 'min_child_weight': [1, 3, 5, 7, 9, 11, 13, 15, 17, 19],\n",
      " 'n_estimators': [200, 400, 600, 800, 1000, 1200, 1400, 1600, 1800]}\n"
     ]
    }
   ],
   "source": [
    "max_depth= [0]+[i for i in range(1,50,5)]\n",
    "min_child_weight= [i for i in range(1, 21, 2)]\n",
    "n_estimators= [i for i in range(200,2000,200)]\n",
    "learning_rate= [0.03, 0.05, 0.1,0.15]\n",
    "gamma=[0,1,2,3,4,5]\n",
    "max_leaves = [0,31]+[i for i in range(100,1000,100)]\n",
    "max_bin = [255]+[i for i in range(510, 510*5, 510)]\n",
    "random_grid = {'max_depth': max_depth,\n",
    "               'min_child_weight': min_child_weight,\n",
    "               'n_estimators': n_estimators,\n",
    "              'learning_rate': learning_rate,\n",
    "               'gamma': gamma,\n",
    "               'max_leaves': max_leaves,\n",
    "               'max_bin': max_bin\n",
    "              }\n",
    "pprint(random_grid)"
   ]
  },
  {
   "cell_type": "markdown",
   "metadata": {},
   "source": [
    "### Nested Random Grid Search"
   ]
  },
  {
   "cell_type": "code",
   "execution_count": 6,
   "metadata": {},
   "outputs": [
    {
     "data": {
      "application/vnd.jupyter.widget-view+json": {
       "model_id": "7fabbb3d6ce24e859097cf4a731a0909",
       "version_major": 2,
       "version_minor": 0
      },
      "text/plain": [
       "HBox(children=(FloatProgress(value=0.0, max=10.0), HTML(value='')))"
      ]
     },
     "metadata": {},
     "output_type": "display_data"
    },
    {
     "name": "stdout",
     "output_type": "stream",
     "text": [
      ">$USD=19043860.814, mape=26.391 mae=19043860.814,est=-0.279, cfg={'n_estimators': 1000, 'min_child_weight': 13, 'max_leaves': 700, 'max_depth': 6, 'max_bin': 1020, 'learning_rate': 0.03, 'gamma': 0}\n",
      ">$USD=11385130.544, mape=38.005 mae=11385130.544,est=-0.290, cfg={'n_estimators': 1000, 'min_child_weight': 13, 'max_leaves': 700, 'max_depth': 6, 'max_bin': 1020, 'learning_rate': 0.03, 'gamma': 0}\n",
      ">$USD=7678323.453, mape=367.076 mae=7678323.453,est=-0.288, cfg={'n_estimators': 1000, 'min_child_weight': 13, 'max_leaves': 700, 'max_depth': 6, 'max_bin': 1020, 'learning_rate': 0.03, 'gamma': 0}\n",
      ">$USD=6028545.047, mape=56.251 mae=6028545.047,est=-0.290, cfg={'n_estimators': 1000, 'min_child_weight': 13, 'max_leaves': 700, 'max_depth': 6, 'max_bin': 1020, 'learning_rate': 0.03, 'gamma': 0}\n",
      ">$USD=10472620.928, mape=151.394 mae=10472620.928,est=-0.305, cfg={'n_estimators': 1800, 'min_child_weight': 7, 'max_leaves': 300, 'max_depth': 21, 'max_bin': 2040, 'learning_rate': 0.05, 'gamma': 0}\n",
      ">$USD=8617551.000, mape=21.797 mae=8617551.000,est=-0.304, cfg={'n_estimators': 1000, 'min_child_weight': 13, 'max_leaves': 700, 'max_depth': 6, 'max_bin': 1020, 'learning_rate': 0.03, 'gamma': 0}\n",
      ">$USD=7821474.798, mape=25.445 mae=7821474.798,est=-0.306, cfg={'n_estimators': 1000, 'min_child_weight': 13, 'max_leaves': 700, 'max_depth': 6, 'max_bin': 1020, 'learning_rate': 0.03, 'gamma': 0}\n",
      ">$USD=7908017.633, mape=442.631 mae=7908017.633,est=-0.297, cfg={'n_estimators': 1000, 'min_child_weight': 13, 'max_leaves': 700, 'max_depth': 6, 'max_bin': 1020, 'learning_rate': 0.03, 'gamma': 0}\n",
      ">$USD=8189429.319, mape=22.406 mae=8189429.319,est=-0.305, cfg={'n_estimators': 600, 'min_child_weight': 19, 'max_leaves': 900, 'max_depth': 11, 'max_bin': 1020, 'learning_rate': 0.1, 'gamma': 0}\n",
      ">$USD=8567966.413, mape=23.657 mae=8567966.413,est=-0.302, cfg={'n_estimators': 1000, 'min_child_weight': 13, 'max_leaves': 700, 'max_depth': 6, 'max_bin': 1020, 'learning_rate': 0.03, 'gamma': 0}\n",
      "\n",
      "Mean Absolute Error: 9571291.995 (3458619.962)\n",
      "CPU times: user 5d 18h 48min 6s, sys: 3h 31min 57s, total: 5d 22h 20min 3s\n",
      "Wall time: 2d 20h 52min 12s\n"
     ]
    }
   ],
   "source": [
    "%%time\n",
    "seed=42\n",
    "model = xgb.XGBRegressor\n",
    "rs_eval = nested_cross_val(\n",
    "  df=df,\n",
    "  model=model,\n",
    "  space=random_grid,\n",
    "  n_iter=200,\n",
    "  scoring='neg_mean_absolute_error',\n",
    "  search_cv='random',\n",
    "  outer=10,\n",
    "  inner=3,\n",
    "  seed=42\n",
    ")"
   ]
  },
  {
   "cell_type": "markdown",
   "metadata": {},
   "source": [
    "### Evaluate Results"
   ]
  },
  {
   "cell_type": "code",
   "execution_count": null,
   "metadata": {},
   "outputs": [],
   "source": [
    "base_performance(df,model,outer=10,seed=seed,tuned_mae=tuned_mae)"
   ]
  },
  {
   "cell_type": "markdown",
   "metadata": {},
   "source": [
    "### Fine Tune Parameter Grid Search"
   ]
  },
  {
   "cell_type": "code",
   "execution_count": null,
   "metadata": {},
   "outputs": [],
   "source": [
    "tuned_grid = {\n",
    "  'num_leaves': [300,400,500], \n",
    "  'max_bin': [175,255,510],\n",
    "  'num_iterations': [700,800,900], \n",
    "  'learning_rate':[0.05,0.1,0.15],\n",
    "  'boosting_type': ['gbdt', 'dart'],\n",
    "  'max_depth': [-1, 5, 10]\n",
    "}"
   ]
  },
  {
   "cell_type": "code",
   "execution_count": null,
   "metadata": {},
   "outputs": [],
   "source": [
    "grid_nested_cross_val(df=df,outer=10,inner=3,model=model,space=tuned_grid, n_iter=200,scoring='neg_mean_absolute_error',seed=seed)"
   ]
  },
  {
   "cell_type": "code",
   "execution_count": 7,
   "metadata": {},
   "outputs": [],
   "source": [
    "'''\n",
    "  REPORT RESULTS\n",
    "'''\n",
    "rs_eval.to_csv(\"xgb_results.csv\")"
   ]
  }
 ],
 "metadata": {
  "kernelspec": {
   "display_name": "thesis",
   "language": "python",
   "name": "thesis"
  },
  "language_info": {
   "codemirror_mode": {
    "name": "ipython",
    "version": 3
   },
   "file_extension": ".py",
   "mimetype": "text/x-python",
   "name": "python",
   "nbconvert_exporter": "python",
   "pygments_lexer": "ipython3",
   "version": "3.7.4"
  }
 },
 "nbformat": 4,
 "nbformat_minor": 4
}
